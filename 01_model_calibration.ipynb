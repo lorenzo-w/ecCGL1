{
 "cells": [
  {
   "cell_type": "markdown",
   "metadata": {},
   "source": [
    "# Import related functions"
   ]
  },
  {
   "cell_type": "code",
   "execution_count": 13,
   "metadata": {},
   "outputs": [],
   "source": [
    "import re\n",
    "import ast\n",
    "import json\n",
    "\n",
    "import pandas as pd\n",
    "import cobra.io\n",
    "\n",
    "import eccgl1.ECMpy_function as ecmpy"
   ]
  },
  {
   "cell_type": "markdown",
   "metadata": {},
   "source": [
    "# Input and output files"
   ]
  },
  {
   "cell_type": "code",
   "execution_count": 14,
   "metadata": {},
   "outputs": [],
   "source": [
    "ori_sbml_path = \"./data/iCW773.xml\"\n",
    "json_path = \"./model/iCW773.json\"\n",
    "cg_gene_id = pd.read_csv(\"./data/cg_gene_id_trans.csv\", index_col=\"cgl_id\")\n",
    "cg_model_gene_information = pd.read_csv(\n",
    "    \"./data/cg_model_gene_information.csv\", index_col=\"ID\"\n",
    ")\n",
    "gpr_modifications = pd.read_csv(\"./data/gpr_modifications.tsv\", index_col=0, sep=\"\\t\")\n",
    "reaction_modifications = pd.read_csv(\n",
    "    \"./data/reaction_modifications.tsv\", index_col=0, sep=\"\\t\"\n",
    ")\n",
    "# reaction_add = pd.read_csv('./data/reaction_add.tsv', index_col=0,sep='\\t')\n",
    "# metabolite_add = pd.read_csv('./data/metabolite_add.tsv', index_col=0,sep='\\t')\n",
    "\n",
    "json_path_output = \"./model/iCW773_uniprot.json\"\n",
    "sbml_path_output = \"./model/iCW773_uniprot.xml\"\n",
    "json_path_final_output = \"./model/iCW773_uniprot_modification.json\"\n",
    "sbml_path_final_output = \"./model/iCW773_uniprot_modification.xml\"\n",
    "json_path_final_output_del = \"./model/iCW773_uniprot_modification_del.json\"\n",
    "sbml_path_final_output_del = \"./model/iCW773_uniprot_modification_del.xml\""
   ]
  },
  {
   "cell_type": "markdown",
   "metadata": {},
   "source": [
    "# Initial model change"
   ]
  },
  {
   "cell_type": "markdown",
   "metadata": {},
   "source": [
    "The model iCW773 from the supplemental data of Zhang et al. (https://biotechnologyforbiofuels.biomedcentral.com/articles/10.1186/s13068-017-0856-3), modified metabolite chemical formula and converted the model to XML format.\n",
    "\n",
    "To meet the requirements of AutoPACMEN and ECMpy processes for metabolic network format input, we modified the gene, reaction and metabolite information in the model as follows: \n",
    "(1) Metabolites correction: ‘(e)’ to ‘_e’, ‘-D’ to ‘__D’, ‘-L’ to ‘__L’, ‘-R’ to ‘__R’ and other ‘-‘ to ‘_’.\n",
    "\n",
    "(2) Reaction’s correction: ‘-’ to ‘__’ in reactions beginning with ‘EX’ and ‘-’ to ‘__’ in other reactions.   "
   ]
  },
  {
   "cell_type": "markdown",
   "metadata": {},
   "source": [
    "# model modification"
   ]
  },
  {
   "cell_type": "code",
   "execution_count": 15,
   "metadata": {},
   "outputs": [
    {
     "name": "stderr",
     "output_type": "stream",
     "text": [
      "'' is not a valid SBML 'SId'.\n"
     ]
    }
   ],
   "source": [
    "model = cobra.io.read_sbml_model(ori_sbml_path)\n",
    "# print(len(model.reactions))\n",
    "# change gpr\n",
    "for eachr in model.reactions:\n",
    "    if eachr.id in list(gpr_modifications.index):\n",
    "        if str(gpr_modifications.loc[eachr.id, \"gpr\"]) == \"nan\":\n",
    "            eachr.gene_reaction_rule = \"\"\n",
    "        else:\n",
    "            eachr.gene_reaction_rule = gpr_modifications.loc[eachr.id, \"gpr\"]\n",
    "\n",
    "for eachr in model.reactions:\n",
    "    if eachr.id in list(reaction_modifications.index):\n",
    "        model.remove_reactions([model.reactions.get_by_id(eachr.id)])\n",
    "\n",
    "cobra.io.write_sbml_model(model, sbml_path_output)\n",
    "cobra.io.save_json_model(model, json_path_output)"
   ]
  },
  {
   "cell_type": "markdown",
   "metadata": {},
   "source": [
    "# Adding UniProt ID information in the annotation, which is the basis for obtaining kinetic parameters."
   ]
  },
  {
   "cell_type": "code",
   "execution_count": 16,
   "metadata": {},
   "outputs": [
    {
     "name": "stderr",
     "output_type": "stream",
     "text": [
      "'' is not a valid SBML 'SId'.\n"
     ]
    }
   ],
   "source": [
    "model = cobra.io.read_sbml_model(sbml_path_output)\n",
    "for eachr in model.reactions:\n",
    "    if re.search(\" or \", eachr.gene_reaction_rule):\n",
    "        genelist = eachr.gene_reaction_rule.split(\" or \")\n",
    "        newgenelist = []\n",
    "        for eachgene in genelist:\n",
    "            if re.search(\" and \", eachgene):\n",
    "                eachgene = str(eachgene).strip(\"()\")\n",
    "                eachgene = str(eachgene).strip(\" \")\n",
    "                genegenelist = eachgene.split(\" and \")\n",
    "                newnewgenelist = []\n",
    "                for eacheachgene in genegenelist:\n",
    "                    if eacheachgene in cg_model_gene_information.index:\n",
    "                        newnewgenelist.append(\n",
    "                            cg_model_gene_information.loc[eacheachgene, \"Cgl_ID\"]\n",
    "                        )\n",
    "                    else:\n",
    "                        newnewgenelist.append(eacheachgene)\n",
    "                eachgene = \" and \".join(newnewgenelist)\n",
    "                if len(eachgene) > 11:\n",
    "                    eachgene = \"(\" + eachgene + \")\"\n",
    "                if re.search(\"Cgl0236\", eachgene):\n",
    "                    eachgene = \"Cgl0236 and Cgl1293\"\n",
    "                newgenelist.append(eachgene)\n",
    "            else:\n",
    "                if eachgene in cg_model_gene_information.index:\n",
    "                    newgenelist.append(\n",
    "                        cg_model_gene_information.loc[eachgene, \"Cgl_ID\"]\n",
    "                    )\n",
    "                else:\n",
    "                    newgenelist.append(eachgene)\n",
    "        if len(newgenelist) > 1:\n",
    "            eachr.gene_reaction_rule = \" or \".join(newgenelist)\n",
    "    elif re.search(\" and \", eachr.gene_reaction_rule):\n",
    "        genelist = eachr.gene_reaction_rule.split(\" and \")\n",
    "        newgenelist = []\n",
    "        for eachgene in genelist:\n",
    "            if eachgene in cg_model_gene_information.index:\n",
    "                newgenelist.append(cg_model_gene_information.loc[eachgene, \"Cgl_ID\"])\n",
    "            else:\n",
    "                newgenelist.append(eachgene)\n",
    "        if len(newgenelist) > 1:\n",
    "            eachr.gene_reaction_rule = \" and \".join(newgenelist)\n",
    "    else:\n",
    "        if eachr.gene_reaction_rule in cg_model_gene_information.index:\n",
    "            eachr.gene_reaction_rule = cg_model_gene_information.loc[\n",
    "                eachr.gene_reaction_rule, \"Cgl_ID\"\n",
    "            ]\n",
    "\n",
    "for eachmet in model.metabolites:\n",
    "    if re.search(\"_c\", eachmet.id):\n",
    "        eachmet.compartment = \"c\"\n",
    "    elif re.search(\"_p\", eachmet.id):\n",
    "        eachmet.compartment = \"p\"\n",
    "    elif re.search(\"_e\", eachmet.id):\n",
    "        eachmet.compartment = \"e\"\n",
    "\n",
    "for eachgene in model.genes:\n",
    "    if eachgene.id in cg_model_gene_information.index:\n",
    "        eachgene.id = cg_model_gene_information.loc[eachgene.id, \"Cgl_ID\"]\n",
    "        eachgene.name = \"G_\" + eachgene.id\n",
    "        eachgene.annotation = {\"uniprot\": cg_gene_id.loc[eachgene.id, \"Entry\"]}\n",
    "    elif re.search(\"Cgl\", eachgene.id):\n",
    "        eachgene.name = \"G_\" + eachgene.id\n",
    "        eachgene.annotation = {\"uniprot\": cg_gene_id.loc[eachgene.id, \"Entry\"]}\n",
    "\n",
    "cobra.io.write_sbml_model(model, sbml_path_final_output)\n",
    "cobra.io.save_json_model(model, json_path_final_output)"
   ]
  },
  {
   "cell_type": "code",
   "execution_count": 17,
   "metadata": {},
   "outputs": [],
   "source": [
    "dictionary_model = ecmpy.json_load(json_path_final_output)\n",
    "gene_dic = []\n",
    "for eachg in dictionary_model[\"genes\"]:\n",
    "    gene_dic.append(str(eachg))\n",
    "df = pd.DataFrame({\"gene\": gene_dic})\n",
    "df.drop_duplicates(keep=\"first\", inplace=True)\n",
    "list1 = df[\"gene\"].tolist()\n",
    "\n",
    "\n",
    "dictionary_model[\"genes\"].clear()\n",
    "list1 = \",\".join(str(i) for i in list1)\n",
    "dictionary_model[\"genes\"] = str(list1)\n",
    "dictionary_model[\"genes\"] = ast.literal_eval(dictionary_model[\"genes\"])\n",
    "\n",
    "\n",
    "ecmpy.json_write(json_path_final_output_del, dictionary_model)\n",
    "json_model = cobra.io.load_json_model(json_path_final_output_del)\n",
    "cobra.io.write_sbml_model(json_model, sbml_path_final_output_del)"
   ]
  }
 ],
 "metadata": {
  "kernelspec": {
   "display_name": ".venv",
   "language": "python",
   "name": "python3"
  },
  "language_info": {
   "codemirror_mode": {
    "name": "ipython",
    "version": 3
   },
   "file_extension": ".py",
   "mimetype": "text/x-python",
   "name": "python",
   "nbconvert_exporter": "python",
   "pygments_lexer": "ipython3",
   "version": "3.11.2"
  },
  "toc": {
   "base_numbering": 1,
   "nav_menu": {},
   "number_sections": true,
   "sideBar": true,
   "skip_h1_title": false,
   "title_cell": "Table of Contents",
   "title_sidebar": "Contents",
   "toc_cell": false,
   "toc_position": {},
   "toc_section_display": true,
   "toc_window_display": false
  },
  "varInspector": {
   "cols": {
    "lenName": 16,
    "lenType": 16,
    "lenVar": 40
   },
   "kernels_config": {
    "python": {
     "delete_cmd_postfix": "",
     "delete_cmd_prefix": "del ",
     "library": "var_list.py",
     "varRefreshCmd": "print(var_dic_list())"
    },
    "r": {
     "delete_cmd_postfix": ") ",
     "delete_cmd_prefix": "rm(",
     "library": "var_list.r",
     "varRefreshCmd": "cat(var_dic_list()) "
    }
   },
   "types_to_exclude": [
    "module",
    "function",
    "builtin_function_or_method",
    "instance",
    "_Feature"
   ],
   "window_display": false
  },
  "vp": {
   "base_numbering": 1,
   "nav_menu": {},
   "number_sections": true,
   "sideBar": true,
   "title_cell": "VisualPython",
   "title_sidebar": "VisualPython",
   "vpPosition": {
    "height": "calc(100% - 180px)",
    "right": "10px",
    "top": "110px",
    "width": "50%"
   },
   "vp_cell": false,
   "vp_section_display": true,
   "vp_window_display": false
  }
 },
 "nbformat": 4,
 "nbformat_minor": 4
}
