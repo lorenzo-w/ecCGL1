{
 "cells": [
  {
   "cell_type": "markdown",
   "metadata": {},
   "source": [
    "# Import related functions"
   ]
  },
  {
   "cell_type": "code",
   "execution_count": 1,
   "metadata": {},
   "outputs": [],
   "source": [
    "import re\n",
    "import sys\n",
    "sys.path.append(r'./script/')\n",
    "from ECMpy_function import *\n",
    "from cobra.core import Reaction,Metabolite"
   ]
  },
  {
   "cell_type": "markdown",
   "metadata": {},
   "source": [
    "# Input and output files"
   ]
  },
  {
   "cell_type": "code",
   "execution_count": 2,
   "metadata": {},
   "outputs": [],
   "source": [
    "ori_sbml_path = \"./data/iCW773.xml\"\n",
    "json_path = \"./model/iCW773.json\"\n",
    "cg_gene_id = pd.read_csv('./data/cg_gene_id_trans.csv', index_col='cgl_id')\n",
    "cg_model_gene_information = pd.read_csv(\"./data/cg_model_gene_information.csv\",index_col='ID')\n",
    "gpr_modifications = pd.read_csv('./data/gpr_modifications.tsv', index_col=0,sep='\\t')\n",
    "gene_subnum_path = \"./data/gene_subnum.csv\"\n",
    "\n",
    "json_path_output=\"./model/iCW773_gpr.json\"\n",
    "sbml_path_output=\"./model/iCW773_gpr.xml\"\n",
    "json_path_final_output=\"./model/iCW773_gpr_uniprot.json\"\n",
    "sbml_path_final_output=\"./model/iCW773_gpr_uniprot.xml\"\n",
    "json_path_final_output_del=\"./model/iCW773_gpr_uniprot_del.json\"\n",
    "sbml_path_final_output_del=\"./model/iCW773_gpr_uniprot_del.xml\"\n",
    "json_split_file = \"./data/iCW773_uniprot_split.json\"\n",
    "json_subnum_out_file = \"./data/reaction_gene_subunit_num.json\""
   ]
  },
  {
   "cell_type": "markdown",
   "metadata": {},
   "source": [
    "# Initial model change"
   ]
  },
  {
   "cell_type": "markdown",
   "metadata": {},
   "source": [
    "### The model iCW773 from the supplemental data of Zhang et al. (https://biotechnologyforbiofuels.biomedcentral.com/articles/10.1186/s13068-017-0856-3), modified metabolite chemical formula and converted the model to XML format.   \n",
    "### To meet the requirements of AutoPACMEN and ECMpy processes for metabolic network format input, we modified the gene, reaction and metabolite information in the model as follows: \n",
    "### (1) Metabolites correction: ‘(e)’ to ‘_e’, ‘-D’ to ‘__D’, ‘-L’ to ‘__L’, ‘-R’ to ‘__R’ and other ‘-‘ to ‘_’.   \n",
    "### (2) Reaction’s correction: ‘-’ to ‘__’ in reactions beginning with ‘EX’ and ‘-’ to ‘__’ in other reactions.   "
   ]
  },
  {
   "cell_type": "markdown",
   "metadata": {},
   "source": [
    "# model modification"
   ]
  },
  {
   "cell_type": "code",
   "execution_count": 3,
   "metadata": {},
   "outputs": [],
   "source": [
    "model=cobra.io.read_sbml_model(ori_sbml_path)\n",
    "#change gpr\n",
    "for eachr in model.reactions:\n",
    "    if eachr.id in list(gpr_modifications.index):\n",
    "        if str(gpr_modifications.loc[eachr.id,'gpr']) == 'nan':\n",
    "            eachr.gene_reaction_rule = ''\n",
    "        else:\n",
    "            eachr.gene_reaction_rule=gpr_modifications.loc[eachr.id,'gpr']\n",
    "    \n",
    "cobra.io.write_sbml_model(model,sbml_path_output)    \n",
    "cobra.io.save_json_model(model, json_path_output)"
   ]
  },
  {
   "cell_type": "markdown",
   "metadata": {},
   "source": [
    "# Adding UniProt ID information in the annotation, which is the basis for obtaining kinetic parameters."
   ]
  },
  {
   "cell_type": "code",
   "execution_count": 4,
   "metadata": {},
   "outputs": [
    {
     "data": {
      "text/plain": [
       "1470"
      ]
     },
     "execution_count": 4,
     "metadata": {},
     "output_type": "execute_result"
    }
   ],
   "source": [
    "model=cobra.io.read_sbml_model(sbml_path_output)\n",
    "      \n",
    "for eachr in model.reactions: \n",
    "    if re.search(' or ',eachr.gene_reaction_rule):\n",
    "        genelist=eachr.gene_reaction_rule.split(' or ')\n",
    "        newgenelist=[]\n",
    "        for eachgene in genelist:\n",
    "            if re.search(' and ',eachgene):\n",
    "                eachgene = str(eachgene).strip('()')\n",
    "                eachgene = str(eachgene).strip(' ')\n",
    "                genegenelist=eachgene.split(' and ')\n",
    "                newnewgenelist=[]\n",
    "                for eacheachgene in genegenelist:\n",
    "                    if eacheachgene in cg_model_gene_information.index:\n",
    "                        newnewgenelist.append(cg_model_gene_information.loc[eacheachgene,'Cgl_ID'])\n",
    "                    else:\n",
    "                        newnewgenelist.append(eacheachgene)\n",
    "                eachgene =' and '.join(newnewgenelist)\n",
    "                if len(eachgene) > 11:\n",
    "                    eachgene = '('+eachgene+')'\n",
    "                if re.search('Cgl0236',eachgene):\n",
    "                    eachgene = 'Cgl0236 and Cgl1293'\n",
    "                newgenelist.append(eachgene)\n",
    "            else:\n",
    "                if eachgene in cg_model_gene_information.index:\n",
    "                    newgenelist.append(cg_model_gene_information.loc[eachgene,'Cgl_ID'])   \n",
    "                else:\n",
    "                    newgenelist.append(eachgene)\n",
    "        if len(newgenelist)>1:\n",
    "            eachr.gene_reaction_rule=' or '.join(newgenelist)\n",
    "    elif re.search(' and ',eachr.gene_reaction_rule):\n",
    "        genelist=eachr.gene_reaction_rule.split(' and ')\n",
    "        newgenelist=[]\n",
    "        for eachgene in genelist:\n",
    "            if eachgene in cg_model_gene_information.index:\n",
    "                newgenelist.append(cg_model_gene_information.loc[eachgene,'Cgl_ID'])\n",
    "            else:\n",
    "                newgenelist.append(eachgene)\n",
    "        if len(newgenelist)>1:\n",
    "            eachr.gene_reaction_rule=' and '.join(newgenelist)\n",
    "    else:\n",
    "        if eachr.gene_reaction_rule in cg_model_gene_information.index:\n",
    "            eachr.gene_reaction_rule=cg_model_gene_information.loc[eachr.gene_reaction_rule,'Cgl_ID']\n",
    "\n",
    "for eachmet in model.metabolites: \n",
    "    if re.search('_c',eachmet.id):\n",
    "        eachmet.compartment='c'\n",
    "    elif re.search('_p',eachmet.id):\n",
    "        eachmet.compartment='p'\n",
    "    elif re.search('_e',eachmet.id):\n",
    "        eachmet.compartment='e'\n",
    "        \n",
    "for eachgene in model.genes: \n",
    "    if eachgene.id in cg_model_gene_information.index:\n",
    "        eachgene.id=cg_model_gene_information.loc[eachgene.id,'Cgl_ID']\n",
    "        eachgene.name='G_'+eachgene.id\n",
    "        eachgene.annotation={'uniprot': cg_gene_id.loc[eachgene.id,'Entry']}\n",
    "    elif re.search('Cgl',eachgene.id):\n",
    "        eachgene.name='G_'+eachgene.id\n",
    "        eachgene.annotation={'uniprot': cg_gene_id.loc[eachgene.id,'Entry']}   \n",
    "        \n",
    "cobra.io.write_sbml_model(model,sbml_path_final_output)\n",
    "cobra.io.save_json_model(model,json_path_final_output)\n",
    "len(model.genes)"
   ]
  },
  {
   "cell_type": "markdown",
   "metadata": {},
   "source": [
    "# Delete duplicated gene "
   ]
  },
  {
   "cell_type": "code",
   "execution_count": 5,
   "metadata": {},
   "outputs": [
    {
     "name": "stdout",
     "output_type": "stream",
     "text": [
      "779\n"
     ]
    }
   ],
   "source": [
    "# del duplicated gene \n",
    "import re\n",
    "import copy\n",
    "import ast\n",
    "dictionary_model=json_load(json_path_final_output)\n",
    "\n",
    "\n",
    "gene_dic = []\n",
    "for eachg in dictionary_model['genes']:\n",
    "    gene_dic.append(str(eachg))\n",
    "df = pd.DataFrame({'gene':gene_dic})\n",
    "df.drop_duplicates(keep='first',inplace=True)\n",
    "list1 = df['gene'].tolist()\n",
    "\n",
    "\n",
    "dictionary_model['genes'].clear()\n",
    "list1 = ','.join(str(i) for i in list1)\n",
    "dictionary_model['genes'] = str(list1)\n",
    "dictionary_model['genes'] = ast.literal_eval(dictionary_model['genes'])\n",
    "\n",
    "\n",
    "json_write(json_path_final_output_del,dictionary_model)\n",
    "json_model=cobra.io.load_json_model(json_path_final_output_del)\n",
    "cobra.io.write_sbml_model(json_model,sbml_path_final_output_del)\n",
    "print(len(json_model.genes))"
   ]
  },
  {
   "cell_type": "markdown",
   "metadata": {},
   "source": [
    "# Generate subunit number json file"
   ]
  },
  {
   "cell_type": "code",
   "execution_count": 6,
   "metadata": {},
   "outputs": [],
   "source": [
    "# split model\n",
    "model = cobra.io.json.load_json_model(json_path_final_output_del)\n",
    "convert_to_irreversible(model)\n",
    "model = isoenzyme_split(model)\n",
    "cobra.io.save_json_model(model, json_split_file)"
   ]
  },
  {
   "cell_type": "code",
   "execution_count": 7,
   "metadata": {},
   "outputs": [],
   "source": [
    "# extract subunit numbers by reaction\n",
    "dictionary_model=json_load(json_split_file)\n",
    "gene_subnum = pd.read_csv(gene_subnum_path)\n",
    "gene_subnum.set_index(['keggNames'], inplace=True)\n",
    "\n",
    "reaction_gene_subnum = {}\n",
    "for eachr in dictionary_model['reactions']: \n",
    "    model_id_list = []\n",
    "    model_name_list = []\n",
    "\n",
    "    if len(eachr['gene_reaction_rule']) != 0 :\n",
    "        if re.search(' and ',eachr['gene_reaction_rule']):\n",
    "            gene_subnum_dict = {}\n",
    "            newgenelist=[]\n",
    "\n",
    "            genelist=eachr['gene_reaction_rule'].split(' and ')\n",
    "\n",
    "            for eachgene in genelist:\n",
    "                if eachgene in gene_subnum.index:\n",
    "                    subnum = gene_subnum.loc[eachgene,'subunitnumber']\n",
    "                    reaction_gene_subnum.setdefault(eachr['id'], {}).update({eachgene : str(subnum)})\n",
    "\n",
    "        else:\n",
    "            gene_subnum_dict = {}\n",
    "            if eachr['gene_reaction_rule'] in gene_subnum.index:\n",
    "                subnum = gene_subnum.loc[eachr['gene_reaction_rule'],'subunitnumber']\n",
    "                gene_subnum_dict[str(eachr['gene_reaction_rule'])]= str(subnum)\n",
    "                reaction_gene_subnum[eachr['id']] = gene_subnum_dict\n",
    "        \n",
    "json_write(json_subnum_out_file,reaction_gene_subnum)\n"
   ]
  },
  {
   "cell_type": "code",
   "execution_count": null,
   "metadata": {},
   "outputs": [],
   "source": []
  }
 ],
 "metadata": {
  "kernelspec": {
   "display_name": "ECMpy",
   "language": "python",
   "name": "ecmpy"
  },
  "language_info": {
   "codemirror_mode": {
    "name": "ipython",
    "version": 3
   },
   "file_extension": ".py",
   "mimetype": "text/x-python",
   "name": "python",
   "nbconvert_exporter": "python",
   "pygments_lexer": "ipython3",
   "version": "3.6.5"
  },
  "toc": {
   "base_numbering": 1,
   "nav_menu": {},
   "number_sections": true,
   "sideBar": true,
   "skip_h1_title": false,
   "title_cell": "Table of Contents",
   "title_sidebar": "Contents",
   "toc_cell": false,
   "toc_position": {},
   "toc_section_display": true,
   "toc_window_display": false
  },
  "varInspector": {
   "cols": {
    "lenName": 16,
    "lenType": 16,
    "lenVar": 40
   },
   "kernels_config": {
    "python": {
     "delete_cmd_postfix": "",
     "delete_cmd_prefix": "del ",
     "library": "var_list.py",
     "varRefreshCmd": "print(var_dic_list())"
    },
    "r": {
     "delete_cmd_postfix": ") ",
     "delete_cmd_prefix": "rm(",
     "library": "var_list.r",
     "varRefreshCmd": "cat(var_dic_list()) "
    }
   },
   "types_to_exclude": [
    "module",
    "function",
    "builtin_function_or_method",
    "instance",
    "_Feature"
   ],
   "window_display": false
  },
  "vp": {
   "base_numbering": 1,
   "nav_menu": {},
   "number_sections": true,
   "sideBar": true,
   "title_cell": "VisualPython",
   "title_sidebar": "VisualPython",
   "vpPosition": {
    "height": "calc(100% - 180px)",
    "right": "10px",
    "top": "110px",
    "width": "50%"
   },
   "vp_cell": false,
   "vp_section_display": true,
   "vp_window_display": false
  },
  "vscode": {
   "interpreter": {
    "hash": "88279d2366fe020547cde40dd65aa0e3aa662a6ec1f3ca12d88834876c85e1a6"
   }
  }
 },
 "nbformat": 4,
 "nbformat_minor": 4
}
