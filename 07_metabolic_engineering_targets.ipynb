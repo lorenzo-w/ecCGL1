{
 "cells": [
  {
   "cell_type": "code",
   "execution_count": 1,
   "id": "0f4027cb",
   "metadata": {},
   "outputs": [],
   "source": [
    "import sys\n",
    "sys.path.append(r'./script/')\n",
    "from ECMpy_function import *\n",
    "import copy"
   ]
  },
  {
   "cell_type": "markdown",
   "id": "4bc3d8b0",
   "metadata": {},
   "source": [
    "# μ=0.46 sub=5.5 compare pathway producing lysine rates between 0.1 and 0.46"
   ]
  },
  {
   "cell_type": "code",
   "execution_count": 2,
   "id": "50935d3d",
   "metadata": {},
   "outputs": [
    {
     "name": "stdout",
     "output_type": "stream",
     "text": [
      "0.12\n",
      "[0.1, 0.46]\n",
      "5.5\n",
      "0.0\n",
      "0.1\n",
      "Enzyme cost total is:0.12000000000000109\n",
      "0.12000000000000109\n",
      "        \n",
      "5.5\n",
      "1.1332697883576075\n",
      "0.46\n",
      "Enzyme cost total is:0.12000000000000002\n",
      "0.12000000000000002\n",
      "        \n"
     ]
    },
    {
     "data": {
      "text/html": [
       "<div>\n",
       "<style scoped>\n",
       "    .dataframe tbody tr th:only-of-type {\n",
       "        vertical-align: middle;\n",
       "    }\n",
       "\n",
       "    .dataframe tbody tr th {\n",
       "        vertical-align: top;\n",
       "    }\n",
       "\n",
       "    .dataframe thead th {\n",
       "        text-align: right;\n",
       "    }\n",
       "</style>\n",
       "<table border=\"1\" class=\"dataframe\">\n",
       "  <thead>\n",
       "    <tr style=\"text-align: right;\">\n",
       "      <th></th>\n",
       "      <th>ec773</th>\n",
       "      <th>obj</th>\n",
       "    </tr>\n",
       "  </thead>\n",
       "  <tbody>\n",
       "    <tr>\n",
       "      <th>0</th>\n",
       "      <td>0.1</td>\n",
       "      <td>3.645972</td>\n",
       "    </tr>\n",
       "    <tr>\n",
       "      <th>1</th>\n",
       "      <td>0.46</td>\n",
       "      <td>0.145764</td>\n",
       "    </tr>\n",
       "  </tbody>\n",
       "</table>\n",
       "</div>"
      ],
      "text/plain": [
       "  ec773       obj\n",
       "0   0.1  3.645972\n",
       "1  0.46  0.145764"
      ]
     },
     "execution_count": 2,
     "metadata": {},
     "output_type": "execute_result"
    }
   ],
   "source": [
    "json_model_file=\"./model/iCW773_irr_enz_constraint_adj_PDH.json\"\n",
    "enz_model=get_enzyme_constraint_model(json_model_file)\n",
    "# reaction_kcat_MW_file=\"./analysis/reaction_kcat_MW.csv\"\n",
    "objlist = []\n",
    "glclist = []\n",
    "exlist = list(np.linspace(0.1,0.46,2))\n",
    "exlistn = []\n",
    "for i in exlist:\n",
    "    i = format(i,'.2f')\n",
    "    exlistn.append(float(i))\n",
    "print(exlistn)\n",
    "concentration = 5.5\n",
    "obj='EX_lys_L_e' # EX_lys_L_e\n",
    "\n",
    "for i in exlistn:\n",
    "    cond = i\n",
    "\n",
    "    enz_model.reactions.get_by_id('EX_glc_e').bounds=(-concentration,0)#EX_glc_e EX_fru_e EX_sucr_e EX_inost_e EX_lac_D_e EX_ac_e\n",
    "    enz_model.reactions.get_by_id('EX_glc_e_reverse').bounds=(0,0)\n",
    "    # enz_model.reactions.get_by_id('ATPM').bounds=(6.86,6.86)\n",
    "    enz_model.reactions.get_by_id('CG_biomass_cgl_ATCC13032').bounds=(cond,cond)\n",
    "    enz_model.objective=obj\n",
    "    enz_model_pfba_solution = cobra.flux_analysis.pfba(enz_model)\n",
    "    glclist.append(str(i))\n",
    "    objlist.append(enz_model_pfba_solution.fluxes[obj])\n",
    "    \n",
    "    print(-enz_model_pfba_solution.fluxes['EX_glc_e'])\n",
    "    print(enz_model_pfba_solution.fluxes['EX_ac_e'])\n",
    "    print(enz_model_pfba_solution.fluxes['CG_biomass_cgl_ATCC13032'])\n",
    "    fluxes_outfile = './analysis/ECMpy_solution_%s_%.2g_pfba_%.2g.csv'%(obj,cond,concentration)\n",
    "    enz_model_pfba_solution = get_fluxes_detail_in_model(enz_model,enz_model_pfba_solution,fluxes_outfile,json_model_file)\n",
    "    print(np.sum(enz_model_pfba_solution['E']))\n",
    "    print(\"        \")\n",
    "ectest = pd.DataFrame({'ec773':glclist,'obj':objlist})\n",
    "ectest"
   ]
  },
  {
   "cell_type": "code",
   "execution_count": null,
   "id": "3f59f1b9-a728-4b9b-9cc7-c2cb4755f6d1",
   "metadata": {},
   "outputs": [],
   "source": []
  }
 ],
 "metadata": {
  "kernelspec": {
   "display_name": "ECMpy",
   "language": "python",
   "name": "ecmpy"
  },
  "language_info": {
   "codemirror_mode": {
    "name": "ipython",
    "version": 3
   },
   "file_extension": ".py",
   "mimetype": "text/x-python",
   "name": "python",
   "nbconvert_exporter": "python",
   "pygments_lexer": "ipython3",
   "version": "3.6.5"
  },
  "vscode": {
   "interpreter": {
    "hash": "aec6f9601953fd03d376ef17712169e85f6fb754daeb0215f5c4ce784c88af03"
   }
  }
 },
 "nbformat": 4,
 "nbformat_minor": 5
}
